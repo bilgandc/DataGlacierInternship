{
 "cells": [
  {
   "cell_type": "markdown",
   "id": "daf7ca09-2cd3-457a-8b96-1eab88b749c3",
   "metadata": {},
   "source": [
    "# Cross Selling Recommendation Project"
   ]
  },
  {
   "cell_type": "markdown",
   "id": "59c97095-c212-4558-87e3-0635457a3f6b",
   "metadata": {},
   "source": [
    "### Bilgan Kiris \n",
    "### November 24th, 2024"
   ]
  },
  {
   "cell_type": "markdown",
   "id": "360f1a51-97f3-4365-a5a9-68175b81526b",
   "metadata": {},
   "source": [
    "  <h3 style=\"padding: 10px; background-color: #eaffea\">Problem Description</h3>"
   ]
  },
  {
   "cell_type": "markdown",
   "id": "e979fe41-dc30-4b1a-b6b3-eff82465b00d",
   "metadata": {},
   "source": [
    "XYZ Credit Union in Latin America excels in selling individual banking products (e.g., credit\n",
    "cards, deposit accounts, retirement accounts). However, their customers rarely purchase\n",
    "multiple products, indicating low cross-selling performance. This project aims to analyze\n",
    "customer data and recommend actionable strategies to improve cross-selling for their products"
   ]
  },
  {
   "cell_type": "markdown",
   "id": "b5936184-c9fe-4bc1-be50-f2d059d46a74",
   "metadata": {},
   "source": [
    "<h3 style=\"padding: 10px; background-color: #eaffea; font-size: 16px;\">Step 1: Load and Inspect the Data</h3>"
   ]
  },
  {
   "cell_type": "code",
   "execution_count": 2,
   "id": "78dc811e-395c-4bb6-b50e-df8a5614cd6e",
   "metadata": {},
   "outputs": [],
   "source": [
    "import pandas as pd\n",
    "import numpy as np\n",
    "import matplotlib.pyplot as plt\n",
    "import seaborn as sns"
   ]
  },
  {
   "cell_type": "code",
   "execution_count": 3,
   "id": "01f2a28d-c9bc-494d-bc99-b5d1c19d332e",
   "metadata": {},
   "outputs": [
    {
     "name": "stderr",
     "output_type": "stream",
     "text": [
      "C:\\Users\\bilga\\AppData\\Local\\Temp\\ipykernel_12028\\1117014075.py:3: DtypeWarning: Columns (15) have mixed types. Specify dtype option on import or set low_memory=False.\n",
      "  df = pd.read_csv(file_path)\n"
     ]
    },
    {
     "name": "stdout",
     "output_type": "stream",
     "text": [
      "<class 'pandas.core.frame.DataFrame'>\n",
      "RangeIndex: 929615 entries, 0 to 929614\n",
      "Data columns (total 24 columns):\n",
      " #   Column                 Non-Null Count   Dtype  \n",
      "---  ------                 --------------   -----  \n",
      " 0   fecha_dato             929615 non-null  object \n",
      " 1   ncodpers               929615 non-null  int64  \n",
      " 2   ind_empleado           929615 non-null  object \n",
      " 3   pais_residencia        929615 non-null  object \n",
      " 4   sexo                   929610 non-null  object \n",
      " 5   age                    929615 non-null  int64  \n",
      " 6   fecha_alta             929615 non-null  object \n",
      " 7   ind_nuevo              929615 non-null  int64  \n",
      " 8   antiguedad             929615 non-null  int64  \n",
      " 9   indrel                 929615 non-null  int64  \n",
      " 10  ult_fec_cli_1t         1683 non-null    object \n",
      " 11  indrel_1mes            929592 non-null  float64\n",
      " 12  tiprel_1mes            929592 non-null  object \n",
      " 13  indresi                929615 non-null  object \n",
      " 14  indext                 929615 non-null  object \n",
      " 15  conyuemp               104 non-null     object \n",
      " 16  canal_entrada          927534 non-null  object \n",
      " 17  indfall                929615 non-null  object \n",
      " 18  tipodom                929615 non-null  int64  \n",
      " 19  cod_prov               925619 non-null  float64\n",
      " 20  nomprov                925619 non-null  object \n",
      " 21  ind_actividad_cliente  929615 non-null  int64  \n",
      " 22  renta                  929615 non-null  object \n",
      " 23  segmento               927367 non-null  object \n",
      "dtypes: float64(2), int64(7), object(15)\n",
      "memory usage: 170.2+ MB\n"
     ]
    },
    {
     "data": {
      "text/html": [
       "<div>\n",
       "<style scoped>\n",
       "    .dataframe tbody tr th:only-of-type {\n",
       "        vertical-align: middle;\n",
       "    }\n",
       "\n",
       "    .dataframe tbody tr th {\n",
       "        vertical-align: top;\n",
       "    }\n",
       "\n",
       "    .dataframe thead th {\n",
       "        text-align: right;\n",
       "    }\n",
       "</style>\n",
       "<table border=\"1\" class=\"dataframe\">\n",
       "  <thead>\n",
       "    <tr style=\"text-align: right;\">\n",
       "      <th></th>\n",
       "      <th>fecha_dato</th>\n",
       "      <th>ncodpers</th>\n",
       "      <th>ind_empleado</th>\n",
       "      <th>pais_residencia</th>\n",
       "      <th>sexo</th>\n",
       "      <th>age</th>\n",
       "      <th>fecha_alta</th>\n",
       "      <th>ind_nuevo</th>\n",
       "      <th>antiguedad</th>\n",
       "      <th>indrel</th>\n",
       "      <th>...</th>\n",
       "      <th>indext</th>\n",
       "      <th>conyuemp</th>\n",
       "      <th>canal_entrada</th>\n",
       "      <th>indfall</th>\n",
       "      <th>tipodom</th>\n",
       "      <th>cod_prov</th>\n",
       "      <th>nomprov</th>\n",
       "      <th>ind_actividad_cliente</th>\n",
       "      <th>renta</th>\n",
       "      <th>segmento</th>\n",
       "    </tr>\n",
       "  </thead>\n",
       "  <tbody>\n",
       "    <tr>\n",
       "      <th>0</th>\n",
       "      <td>2016-06-28</td>\n",
       "      <td>15889</td>\n",
       "      <td>F</td>\n",
       "      <td>ES</td>\n",
       "      <td>V</td>\n",
       "      <td>56</td>\n",
       "      <td>1995-01-16</td>\n",
       "      <td>0</td>\n",
       "      <td>256</td>\n",
       "      <td>1</td>\n",
       "      <td>...</td>\n",
       "      <td>N</td>\n",
       "      <td>N</td>\n",
       "      <td>KAT</td>\n",
       "      <td>N</td>\n",
       "      <td>1</td>\n",
       "      <td>28.0</td>\n",
       "      <td>MADRID</td>\n",
       "      <td>1</td>\n",
       "      <td>326124.90</td>\n",
       "      <td>01 - TOP</td>\n",
       "    </tr>\n",
       "    <tr>\n",
       "      <th>1</th>\n",
       "      <td>2016-06-28</td>\n",
       "      <td>1170544</td>\n",
       "      <td>N</td>\n",
       "      <td>ES</td>\n",
       "      <td>H</td>\n",
       "      <td>36</td>\n",
       "      <td>2013-08-28</td>\n",
       "      <td>0</td>\n",
       "      <td>34</td>\n",
       "      <td>1</td>\n",
       "      <td>...</td>\n",
       "      <td>N</td>\n",
       "      <td>NaN</td>\n",
       "      <td>KAT</td>\n",
       "      <td>N</td>\n",
       "      <td>1</td>\n",
       "      <td>3.0</td>\n",
       "      <td>ALICANTE</td>\n",
       "      <td>0</td>\n",
       "      <td>NA</td>\n",
       "      <td>02 - PARTICULARES</td>\n",
       "    </tr>\n",
       "    <tr>\n",
       "      <th>2</th>\n",
       "      <td>2016-06-28</td>\n",
       "      <td>1170545</td>\n",
       "      <td>N</td>\n",
       "      <td>ES</td>\n",
       "      <td>V</td>\n",
       "      <td>22</td>\n",
       "      <td>2013-08-28</td>\n",
       "      <td>0</td>\n",
       "      <td>34</td>\n",
       "      <td>1</td>\n",
       "      <td>...</td>\n",
       "      <td>N</td>\n",
       "      <td>NaN</td>\n",
       "      <td>KHE</td>\n",
       "      <td>N</td>\n",
       "      <td>1</td>\n",
       "      <td>15.0</td>\n",
       "      <td>CORUÑA, A</td>\n",
       "      <td>1</td>\n",
       "      <td>NA</td>\n",
       "      <td>03 - UNIVERSITARIO</td>\n",
       "    </tr>\n",
       "    <tr>\n",
       "      <th>3</th>\n",
       "      <td>2016-06-28</td>\n",
       "      <td>1170547</td>\n",
       "      <td>N</td>\n",
       "      <td>ES</td>\n",
       "      <td>H</td>\n",
       "      <td>22</td>\n",
       "      <td>2013-08-28</td>\n",
       "      <td>0</td>\n",
       "      <td>34</td>\n",
       "      <td>1</td>\n",
       "      <td>...</td>\n",
       "      <td>N</td>\n",
       "      <td>NaN</td>\n",
       "      <td>KHE</td>\n",
       "      <td>N</td>\n",
       "      <td>1</td>\n",
       "      <td>8.0</td>\n",
       "      <td>BARCELONA</td>\n",
       "      <td>0</td>\n",
       "      <td>148402.98</td>\n",
       "      <td>03 - UNIVERSITARIO</td>\n",
       "    </tr>\n",
       "    <tr>\n",
       "      <th>4</th>\n",
       "      <td>2016-06-28</td>\n",
       "      <td>1170548</td>\n",
       "      <td>N</td>\n",
       "      <td>ES</td>\n",
       "      <td>H</td>\n",
       "      <td>22</td>\n",
       "      <td>2013-08-28</td>\n",
       "      <td>0</td>\n",
       "      <td>34</td>\n",
       "      <td>1</td>\n",
       "      <td>...</td>\n",
       "      <td>N</td>\n",
       "      <td>NaN</td>\n",
       "      <td>KHE</td>\n",
       "      <td>N</td>\n",
       "      <td>1</td>\n",
       "      <td>7.0</td>\n",
       "      <td>BALEARS, ILLES</td>\n",
       "      <td>0</td>\n",
       "      <td>106885.80</td>\n",
       "      <td>03 - UNIVERSITARIO</td>\n",
       "    </tr>\n",
       "  </tbody>\n",
       "</table>\n",
       "<p>5 rows × 24 columns</p>\n",
       "</div>"
      ],
      "text/plain": [
       "   fecha_dato  ncodpers ind_empleado pais_residencia sexo  age  fecha_alta  \\\n",
       "0  2016-06-28     15889            F              ES    V   56  1995-01-16   \n",
       "1  2016-06-28   1170544            N              ES    H   36  2013-08-28   \n",
       "2  2016-06-28   1170545            N              ES    V   22  2013-08-28   \n",
       "3  2016-06-28   1170547            N              ES    H   22  2013-08-28   \n",
       "4  2016-06-28   1170548            N              ES    H   22  2013-08-28   \n",
       "\n",
       "   ind_nuevo  antiguedad  indrel  ... indext  conyuemp canal_entrada indfall  \\\n",
       "0          0         256       1  ...      N         N           KAT       N   \n",
       "1          0          34       1  ...      N       NaN           KAT       N   \n",
       "2          0          34       1  ...      N       NaN           KHE       N   \n",
       "3          0          34       1  ...      N       NaN           KHE       N   \n",
       "4          0          34       1  ...      N       NaN           KHE       N   \n",
       "\n",
       "  tipodom cod_prov         nomprov ind_actividad_cliente        renta  \\\n",
       "0       1     28.0          MADRID                     1    326124.90   \n",
       "1       1      3.0        ALICANTE                     0           NA   \n",
       "2       1     15.0       CORUÑA, A                     1           NA   \n",
       "3       1      8.0       BARCELONA                     0    148402.98   \n",
       "4       1      7.0  BALEARS, ILLES                     0    106885.80   \n",
       "\n",
       "             segmento  \n",
       "0            01 - TOP  \n",
       "1   02 - PARTICULARES  \n",
       "2  03 - UNIVERSITARIO  \n",
       "3  03 - UNIVERSITARIO  \n",
       "4  03 - UNIVERSITARIO  \n",
       "\n",
       "[5 rows x 24 columns]"
      ]
     },
     "execution_count": 3,
     "metadata": {},
     "output_type": "execute_result"
    }
   ],
   "source": [
    "# load the dataset\n",
    "file_path = \"Test.csv\"\n",
    "df = pd.read_csv(file_path)\n",
    "\n",
    "# overview\n",
    "df.info()\n",
    "df.head()"
   ]
  },
  {
   "cell_type": "markdown",
   "id": "9a9f4fad-0cc5-41b8-ab33-a924948eef5e",
   "metadata": {},
   "source": [
    "<h3 style=\"padding: 10px; background-color: #eaffea; font-size: 16px;\">Step 2: Identify Missing Values</h3>"
   ]
  },
  {
   "cell_type": "code",
   "execution_count": 4,
   "id": "531446e2-d8eb-42e5-beb4-5928b1826274",
   "metadata": {},
   "outputs": [
    {
     "name": "stdout",
     "output_type": "stream",
     "text": [
      "Missing Values: \n",
      " sexo                   5\n",
      "ult_fec_cli_1t    927932\n",
      "indrel_1mes           23\n",
      "tiprel_1mes           23\n",
      "conyuemp          929511\n",
      "canal_entrada       2081\n",
      "cod_prov            3996\n",
      "nomprov             3996\n",
      "segmento            2248\n",
      "dtype: int64\n",
      "Missing Percenatge: \n",
      " sexo               0.000538\n",
      "ult_fec_cli_1t    99.818957\n",
      "indrel_1mes        0.002474\n",
      "tiprel_1mes        0.002474\n",
      "conyuemp          99.988813\n",
      "canal_entrada      0.223856\n",
      "cod_prov           0.429855\n",
      "nomprov            0.429855\n",
      "segmento           0.241821\n",
      "dtype: float64\n"
     ]
    }
   ],
   "source": [
    "missing_values = df.isnull().sum()\n",
    "missing_percentage = (missing_values / len(df)) * 100\n",
    "\n",
    "# display\n",
    "print (\"Missing Values: \\n\", missing_values[missing_values > 0])\n",
    "print (\"Missing Percenatge: \\n\", missing_percentage[missing_percentage > 0])"
   ]
  },
  {
   "cell_type": "markdown",
   "id": "1a028667-b640-436a-a820-b82af970b454",
   "metadata": {},
   "source": [
    "<h3 style=\"padding: 10px; background-color: #eaffea; font-size: 16px;\">Step 3: Handle Missing Values</h3>"
   ]
  },
  {
   "cell_type": "code",
   "execution_count": 5,
   "id": "07b9c6f3-4829-40fc-82e3-8fed6d7513f6",
   "metadata": {},
   "outputs": [],
   "source": [
    "# handle missing numerical values by median imputation for income\n",
    "# remove extra spaces \n",
    "df['renta'] = df['renta'].str.strip()\n",
    "\n",
    "# replace non-numeric entries like 'NA' to 'NaN'\n",
    "df['renta'] = df['renta'].replace('NA', np.nan)\n",
    "\n",
    "# convert the columns to numeric \n",
    "df['renta'] = pd.to_numeric(df['renta'], errors = 'coerce')\n",
    "\n",
    "df['renta'] = df['renta'].fillna(df['renta'].median())\n",
    "\n",
    "# handle missing categorical values by most frequent category\n",
    "df['segmento'] = df['segmento'].fillna(df['segmento'].mode()[0])\n",
    "\n",
    "# dropping irrelevant columns\n",
    "df = df.drop(columns=['ult_fec_cli_1t'], errors='ignore')"
   ]
  },
  {
   "cell_type": "markdown",
   "id": "d24624be-9e46-4041-bae8-5003986cec53",
   "metadata": {},
   "source": [
    "<h3 style=\"padding: 10px; background-color: #eaffea; font-size: 16px;\">Step 4: Detect and Treat Outliers</h3>"
   ]
  },
  {
   "cell_type": "code",
   "execution_count": 6,
   "id": "5270ba91-b9cf-4953-a3a2-dcaed5275e77",
   "metadata": {},
   "outputs": [],
   "source": [
    "# defining a function to cap outliers\n",
    "def cap_outliers(series, lower_percentile=0.05, upper_percentile=0.95):\n",
    "    lower_bound = series.quantile(lower_percentile)\n",
    "    upper_bound = series.quantile(upper_percentile)\n",
    "    return np.clip(series, lower_bound, upper_bound)\n",
    "\n",
    "# apply the function to columns like 'age' and 'renta'\n",
    "df['age'] = cap_outliers(df['age'])\n",
    "df['renta'] = cap_outliers(df['renta'])"
   ]
  },
  {
   "cell_type": "markdown",
   "id": "5058b031-6980-4e08-b570-c399f1906cde",
   "metadata": {},
   "source": [
    "<h3 style=\"padding: 10px; background-color: #eaffea; font-size: 16px;\">Step 5: Address Skewness</h3>"
   ]
  },
  {
   "cell_type": "code",
   "execution_count": 7,
   "id": "a84654a6-fc1a-45d7-862d-4a73f20455fe",
   "metadata": {},
   "outputs": [],
   "source": [
    "# apply log transformation to 'renta'\n",
    "df['renta_log'] = np.log1p(df['renta'])"
   ]
  },
  {
   "cell_type": "markdown",
   "id": "16d9a026-c12f-44e7-8deb-796acd89d3c5",
   "metadata": {},
   "source": [
    "<h3 style=\"padding: 10px; background-color: #eaffea; font-size: 16px;\">Step 6: Clean Up Categorial Data</h3>"
   ]
  },
  {
   "cell_type": "code",
   "execution_count": 8,
   "id": "58ab5bf9-8f5c-4988-904f-22f802e3c103",
   "metadata": {},
   "outputs": [],
   "source": [
    "# standardize 'sexo' column\n",
    "df['sexo'] = df['sexo'].replace({'H': 'Male', 'V': 'Female'})\n",
    "\n",
    "# group rare categories in 'segmento'\n",
    "df['segmento'] = df['segmento'].replace({'03 - college graduated': 'Others'})"
   ]
  },
  {
   "cell_type": "markdown",
   "id": "662ec287-b269-4372-941b-7d97b357c704",
   "metadata": {},
   "source": [
    "<h3 style=\"padding: 10px; background-color: #eaffea; font-size: 16px;\">Step 7: Remove Duplicates</h3>"
   ]
  },
  {
   "cell_type": "code",
   "execution_count": 9,
   "id": "70ac9a7f-1d1b-49f6-a286-a1677c040ef3",
   "metadata": {},
   "outputs": [],
   "source": [
    "# drop duplicates based on 'ncodpers'\n",
    "df = df.drop_duplicates(subset='ncodpers')"
   ]
  },
  {
   "cell_type": "code",
   "execution_count": 10,
   "id": "b9ea3f40-c69f-4697-8e63-a6bed6a51a68",
   "metadata": {},
   "outputs": [
    {
     "name": "stdout",
     "output_type": "stream",
     "text": [
      "Remaining Missing Values:\n",
      " sexo                  5\n",
      "indrel_1mes          23\n",
      "tiprel_1mes          23\n",
      "conyuemp         929511\n",
      "canal_entrada      2081\n",
      "cod_prov           3996\n",
      "nomprov            3996\n",
      "dtype: int64\n",
      "Remaining missing values still need attention.\n"
     ]
    }
   ],
   "source": [
    "# Check for any remaining missing values\n",
    "remaining_missing_values = df.isnull().sum()\n",
    "print(\"Remaining Missing Values:\\n\", remaining_missing_values[remaining_missing_values > 0])\n",
    "\n",
    "# Check if the dataset is completely clean\n",
    "if remaining_missing_values.sum() == 0:\n",
    "    print(\"No missing values remain!\")\n",
    "else:\n",
    "    print(\"Remaining missing values still need attention.\")\n"
   ]
  },
  {
   "cell_type": "markdown",
   "id": "14562063-5e94-491a-934c-27c35b18597d",
   "metadata": {},
   "source": [
    "<h3 style=\"padding: 10px; background-color: #eaffea; font-size: 16px;\">Step 8: Missing Value Fixes</h3>"
   ]
  },
  {
   "cell_type": "code",
   "execution_count": 11,
   "id": "063bf9d2-cfeb-4f11-a06e-085d0b87da29",
   "metadata": {},
   "outputs": [],
   "source": [
    "# since gender only has 5 missing values, we can impute using the mode (most frequent value)\n",
    "df['sexo'] = df['sexo'].fillna(df['sexo'].mode()[0])\n"
   ]
  },
  {
   "cell_type": "code",
   "execution_count": 12,
   "id": "c04a9b04-b0fa-4b07-ac32-ad1962bf0674",
   "metadata": {},
   "outputs": [],
   "source": [
    "# 'indrel_1mes' and 'tiprel_1mes'\n",
    "# both have 23 missing values each, so using mode imputation since it's the most straightforward choice for categorical data.\n",
    "df['indrel_1mes'] = df['indrel_1mes'].fillna(df['indrel_1mes'].mode()[0])\n",
    "df['tiprel_1mes'] = df['tiprel_1mes'].fillna(df['tiprel_1mes'].mode()[0])"
   ]
  },
  {
   "cell_type": "code",
   "execution_count": 13,
   "id": "5b0ce6de-eaa7-458e-b2eb-b30c924ac7fa",
   "metadata": {},
   "outputs": [],
   "source": [
    "# conyuemp column has 929,511 missing values, this might not be useful for analysis. Hence we will drop it\n",
    "df = df.drop(columns=['conyuemp'])"
   ]
  },
  {
   "cell_type": "code",
   "execution_count": 14,
   "id": "ff36a4a7-64aa-428c-ac14-338a7322d30b",
   "metadata": {},
   "outputs": [],
   "source": [
    "# canal_entrada has 2,081 missing values, hence imputing the mode as it's categorical and likely has a dominant value\n",
    "df['canal_entrada'] = df['canal_entrada'].fillna(df['canal_entrada'].mode()[0])"
   ]
  },
  {
   "cell_type": "code",
   "execution_count": 15,
   "id": "2f770f91-e25f-469e-9752-db21d74b3bb1",
   "metadata": {},
   "outputs": [
    {
     "name": "stdout",
     "output_type": "stream",
     "text": [
      "cod_prov\n",
      "28.0            MADRID\n",
      "3.0           ALICANTE\n",
      "15.0         CORUÑA, A\n",
      "8.0          BARCELONA\n",
      "7.0     BALEARS, ILLES\n",
      "Name: nomprov, dtype: object\n"
     ]
    }
   ],
   "source": [
    "# Create a mapping dictionary for cod_prov -> nomprov using known data (drop NA values in cod_prov)\n",
    "province_mapping = df[['cod_prov', 'nomprov']].dropna().drop_duplicates().set_index('cod_prov')['nomprov']\n",
    "\n",
    "# Show a sample to confirm the mapping looks good\n",
    "print(province_mapping.head())\n"
   ]
  },
  {
   "cell_type": "code",
   "execution_count": 16,
   "id": "d3eb60f3-d482-4f82-93b0-ac27e40cdfca",
   "metadata": {},
   "outputs": [
    {
     "name": "stdout",
     "output_type": "stream",
     "text": [
      "Remaining Missing Values after imputation:\n",
      " Series([], dtype: int64)\n"
     ]
    }
   ],
   "source": [
    "# Fill missing 'nomprov' values based on the 'cod_prov' using the mapping\n",
    "df['nomprov'] = df['cod_prov'].map(province_mapping)\n",
    "\n",
    "# In case any values still remain missing (perhaps due to missing cod_prov), we’ll impute them with the most common 'nomprov'\n",
    "df['nomprov'] = df['nomprov'].fillna(df['nomprov'].mode()[0])\n",
    "df['cod_prov'] = df['cod_prov'].fillna(df['cod_prov'].mode()[0])\n",
    "\n",
    "\n",
    "# Check if there are still any missing values after this\n",
    "remaining_missing_values = df.isnull().sum()\n",
    "print(\"Remaining Missing Values after imputation:\\n\", remaining_missing_values[remaining_missing_values > 0])\n"
   ]
  },
  {
   "cell_type": "code",
   "execution_count": 17,
   "id": "f3b825f1-0ed4-44d1-972d-81f8b1243886",
   "metadata": {},
   "outputs": [
    {
     "name": "stdout",
     "output_type": "stream",
     "text": [
      "fecha_dato               0\n",
      "ncodpers                 0\n",
      "ind_empleado             0\n",
      "pais_residencia          0\n",
      "sexo                     0\n",
      "age                      0\n",
      "fecha_alta               0\n",
      "ind_nuevo                0\n",
      "antiguedad               0\n",
      "indrel                   0\n",
      "indrel_1mes              0\n",
      "tiprel_1mes              0\n",
      "indresi                  0\n",
      "indext                   0\n",
      "canal_entrada            0\n",
      "indfall                  0\n",
      "tipodom                  0\n",
      "cod_prov                 0\n",
      "nomprov                  0\n",
      "ind_actividad_cliente    0\n",
      "renta                    0\n",
      "segmento                 0\n",
      "renta_log                0\n",
      "dtype: int64\n",
      "No missing values remain.\n"
     ]
    }
   ],
   "source": [
    "print(df.isnull().sum())\n",
    "print(\"No missing values remain.\")"
   ]
  },
  {
   "cell_type": "markdown",
   "id": "4a5042c6-7ee5-49e9-96de-d4c14e910ba3",
   "metadata": {},
   "source": [
    "<h3 style=\"padding: 10px; background-color: #eaffea; font-size: 16px;\">Step 9: Outlier Detection and Skewness Check</h3>"
   ]
  },
  {
   "cell_type": "code",
   "execution_count": 18,
   "id": "df22e6ab-9fac-4a2d-89ba-c965779d56bc",
   "metadata": {},
   "outputs": [
    {
     "data": {
      "image/png": "[encoded data removed]",
      "text/plain": [
       "<Figure size 1500x1000 with 11 Axes>"
      ]
     },
     "metadata": {},
     "output_type": "display_data"
    }
   ],
   "source": [
    "# Create boxplots for numerical columns to detect outliers\n",
    "numerical_columns = df.select_dtypes(include=['float64', 'int64']).columns\n",
    "\n",
    "plt.figure(figsize=(15, 10))\n",
    "for i, col in enumerate(numerical_columns, 1):\n",
    "    plt.subplot(4, 4, i)  # Adjust the layout based on number of columns\n",
    "    sns.boxplot(data=df, x=col)\n",
    "    plt.title(f'Boxplot of {col}')\n",
    "plt.tight_layout()\n",
    "plt.show()"
   ]
  },
  {
   "cell_type": "code",
   "execution_count": 19,
   "id": "206730a4-1bb3-40cc-8138-f0fcefb72963",
   "metadata": {},
   "outputs": [
    {
     "name": "stdout",
     "output_type": "stream",
     "text": [
      "Skewness of numerical columns:\n",
      " ncodpers                  -0.327419\n",
      "age                        0.580327\n",
      "ind_nuevo                  5.739031\n",
      "antiguedad              -555.491690\n",
      "indrel                    23.438419\n",
      "indrel_1mes              185.545941\n",
      "tipodom                    0.000000\n",
      "cod_prov                  -0.126283\n",
      "ind_actividad_cliente      0.302309\n",
      "renta                      1.324386\n",
      "renta_log                  0.217025\n",
      "dtype: float64\n"
     ]
    }
   ],
   "source": [
    "# Calculate skewness for each numerical column\n",
    "skewness = df[numerical_columns].skew()\n",
    "\n",
    "# Print skewness values to check\n",
    "print(\"Skewness of numerical columns:\\n\", skewness)\n"
   ]
  },
  {
   "cell_type": "code",
   "execution_count": 20,
   "id": "374de646-9fc1-4e7f-9333-039bdede6f54",
   "metadata": {},
   "outputs": [],
   "source": [
    "# Apply log transformation to positively skewed columns\n",
    "df['age_log'] = np.log1p(df['age'])\n",
    "df['renta_log'] = np.log1p(df['renta'])\n",
    "df['ind_nuevo_log'] = np.log1p(df['ind_nuevo'])\n",
    "df['indrel_log'] = np.log1p(df['indrel'])\n",
    "df['indrel_1mes_log'] = np.log1p(df['indrel_1mes'])\n"
   ]
  },
  {
   "cell_type": "code",
   "execution_count": 21,
   "id": "567e4ef6-3174-4545-93cc-600dcc478469",
   "metadata": {},
   "outputs": [
    {
     "name": "stdout",
     "output_type": "stream",
     "text": [
      "count    929615.000000\n",
      "mean         77.728413\n",
      "std        1797.824518\n",
      "min     -999999.000000\n",
      "25%          23.000000\n",
      "50%          55.000000\n",
      "75%         136.000000\n",
      "max         257.000000\n",
      "Name: antiguedad, dtype: float64\n"
     ]
    }
   ],
   "source": [
    "# Check for extreme values\n",
    "print(df['antiguedad'].describe())\n"
   ]
  },
  {
   "cell_type": "code",
   "execution_count": 22,
   "id": "87f1e21a-92df-42d8-9fc6-b68b8e4de306",
   "metadata": {},
   "outputs": [
    {
     "name": "stdout",
     "output_type": "stream",
     "text": [
      "count    929615.000000\n",
      "mean         80.955730\n",
      "std          67.241709\n",
      "min           0.000000\n",
      "25%          23.000000\n",
      "50%          55.000000\n",
      "75%         136.000000\n",
      "max         257.000000\n",
      "Name: antiguedad, dtype: float64\n"
     ]
    }
   ],
   "source": [
    "# Replace -999999 with NaN, then fill NaN with the median or a sensible value\n",
    "df['antiguedad'] = df['antiguedad'].replace(-999999, np.nan)\n",
    "\n",
    "# Fill NaN values with the median of 'antiguedad'\n",
    "df['antiguedad'] = df['antiguedad'].fillna(df['antiguedad'].median())\n",
    "\n",
    "# Summary after handling outliers\n",
    "print(df['antiguedad'].describe())\n"
   ]
  },
  {
   "cell_type": "code",
   "execution_count": 23,
   "id": "36c3eaa3-769f-4804-b3ac-4317961368bb",
   "metadata": {},
   "outputs": [
    {
     "data": {
      "image/png": "[encoded data removed]",
      "text/plain": [
       "<Figure size 640x480 with 1 Axes>"
      ]
     },
     "metadata": {},
     "output_type": "display_data"
    }
   ],
   "source": [
    "# Plot the distribution of antiguedad to check for outliers visually\n",
    "sns.histplot(df['antiguedad'], kde=True)\n",
    "plt.title('Distribution of antiguedad')\n",
    "plt.show()\n"
   ]
  },
  {
   "cell_type": "code",
   "execution_count": 24,
   "id": "e74bc193-a8a9-43bd-81cc-f74316f37d27",
   "metadata": {},
   "outputs": [
    {
     "name": "stdout",
     "output_type": "stream",
     "text": [
      "0.25     23.0\n",
      "0.50     55.0\n",
      "0.75    136.0\n",
      "0.95    207.0\n",
      "1.00    257.0\n",
      "Name: antiguedad, dtype: float64\n"
     ]
    }
   ],
   "source": [
    "# Check percentiles of antiguedad\n",
    "print(df['antiguedad'].quantile([0.25, 0.5, 0.75, 0.95, 1]))\n"
   ]
  },
  {
   "cell_type": "markdown",
   "id": "fc14a857-d3aa-4b36-843e-edc073570607",
   "metadata": {},
   "source": [
    "<h3 style=\"padding: 10px; background-color: #eaffea; font-size: 16px;\">Step 10: NLP Cleaning and Featurization</h3>"
   ]
  },
  {
   "cell_type": "code",
   "execution_count": 31,
   "id": "75bb2966-7a4a-4bfe-8e64-6e5364ba745f",
   "metadata": {},
   "outputs": [],
   "source": [
    "import re\n",
    "from sklearn.feature_extraction.text import TfidfVectorizer"
   ]
  },
  {
   "cell_type": "code",
   "execution_count": 32,
   "id": "695c95b5-eac3-4391-8628-8414e7ee081a",
   "metadata": {},
   "outputs": [
    {
     "name": "stdout",
     "output_type": "stream",
     "text": [
      "segmento_clean\n",
      "- PARTICULARES     547626\n",
      "- UNIVERSITARIO    346028\n",
      "- TOP               35961\n",
      "Name: count, dtype: int64\n"
     ]
    }
   ],
   "source": [
    "# Remove the numeric prefix using regex\n",
    "df['segmento_clean'] = df['segmento'].str.extract(r'[-\\s](.*)$')[0]\n",
    "print(df['segmento_clean'].value_counts())"
   ]
  },
  {
   "cell_type": "code",
   "execution_count": 33,
   "id": "fee8a659-658b-4d0d-acda-82d812b6cc91",
   "metadata": {},
   "outputs": [
    {
     "name": "stdout",
     "output_type": "stream",
     "text": [
      "['- PARTICULARES' '- TOP' '- UNIVERSITARIO']\n"
     ]
    }
   ],
   "source": [
    "# Converting the cleaned categories into numerical values using label encoding \n",
    "from sklearn.preprocessing import LabelEncoder\n",
    "\n",
    "label_encoder = LabelEncoder()\n",
    "df['segmento_encoded'] = label_encoder.fit_transform(df['segmento_clean'])\n",
    "print(label_encoder.classes_)  # To see the mapping\n"
   ]
  },
  {
   "cell_type": "code",
   "execution_count": 34,
   "id": "56735bdd-eb85-40d9-9c3a-6599c74314bf",
   "metadata": {},
   "outputs": [
    {
     "name": "stdout",
     "output_type": "stream",
     "text": [
      "segmento_clean\n",
      "- PARTICULARES     547626\n",
      "- UNIVERSITARIO    346028\n",
      "- TOP               35961\n",
      "Name: count, dtype: int64\n"
     ]
    }
   ],
   "source": [
    "# after cleaning and encoding, analyze the distribution of customer segments\n",
    "print(df['segmento_clean'].value_counts())\n"
   ]
  },
  {
   "cell_type": "code",
   "execution_count": 35,
   "id": "a4b6d5d0-dc66-4d2a-a060-8235709478b3",
   "metadata": {},
   "outputs": [
    {
     "data": {
      "image/png": "[encoded data removed]",
      "text/plain": [
       "<Figure size 640x480 with 1 Axes>"
      ]
     },
     "metadata": {},
     "output_type": "display_data"
    }
   ],
   "source": [
    "# Visualizing the distribution of segmento_clean to understand customer segmentation\n",
    "\n",
    "df['segmento_clean'].value_counts().plot(kind='bar', color=['blue', 'green', 'orange'])\n",
    "plt.title('Customer Segmentation Distribution')\n",
    "plt.xlabel('Segment')\n",
    "plt.ylabel('Count')\n",
    "plt.show()"
   ]
  },
  {
   "cell_type": "code",
   "execution_count": 36,
   "id": "c8385795-e7d9-4211-8757-511791421b16",
   "metadata": {},
   "outputs": [
    {
     "data": {
      "text/plain": [
       "segmento_clean\n",
       "- PARTICULARES     48.690535\n",
       "- TOP              54.648063\n",
       "- UNIVERSITARIO    24.469627\n",
       "Name: age, dtype: float64"
      ]
     },
     "execution_count": 36,
     "metadata": {},
     "output_type": "execute_result"
    }
   ],
   "source": [
    "df.groupby('segmento_clean')['renta'].mean()\n",
    "df.groupby('segmento_clean')['age'].mean()"
   ]
  },
  {
   "cell_type": "code",
   "execution_count": 37,
   "id": "a559de98-d63a-433e-900b-862040f1cec9",
   "metadata": {},
   "outputs": [
    {
     "name": "stderr",
     "output_type": "stream",
     "text": [
      "C:\\Users\\bilga\\AppData\\Local\\Temp\\ipykernel_12028\\2244227885.py:2: FutureWarning: \n",
      "\n",
      "Passing `palette` without assigning `hue` is deprecated and will be removed in v0.14.0. Assign the `x` variable to `hue` and set `legend=False` for the same effect.\n",
      "\n",
      "  sns.boxplot(data=df, x='segmento_clean', y='age', palette='Set2')\n"
     ]
    },
    {
     "data": {
      "image/png": "[encoded data removed]",
      "text/plain": [
       "<Figure size 640x480 with 1 Axes>"
      ]
     },
     "metadata": {},
     "output_type": "display_data"
    }
   ],
   "source": [
    "# variation of ages\n",
    "sns.boxplot(data=df, x='segmento_clean', y='age', palette='Set2')\n",
    "plt.title('Age Distribution Across Customer Segments')\n",
    "plt.xlabel('Segment')\n",
    "plt.ylabel('Age')\n",
    "plt.show()"
   ]
  },
  {
   "cell_type": "code",
   "execution_count": 38,
   "id": "3264ab97-a904-49ac-b0ef-2a48f74b8d28",
   "metadata": {},
   "outputs": [],
   "source": [
    "# Applying Standardization\n",
    "# using z-scores to identify and handle extreme outliers\n",
    "from scipy.stats import zscore\n",
    "\n",
    "df['renta_zscore'] = zscore(df['renta'])\n",
    "df_outliers_removed = df[(df['renta_zscore'] > -3) & (df['renta_zscore'] < 3)]\n"
   ]
  },
  {
   "cell_type": "code",
   "execution_count": 41,
   "id": "a7eaf4ed-e00e-4ffb-bb73-06adb80f3969",
   "metadata": {},
   "outputs": [
    {
     "name": "stdout",
     "output_type": "stream",
     "text": [
      "Original dataset size: 929615\n",
      "Filtered dataset size: 929615\n",
      "Number of rows removed: 0\n"
     ]
    }
   ],
   "source": [
    "print(\"Original dataset size:\", len(df))\n",
    "print(\"Filtered dataset size:\", len(df_outliers_removed))\n",
    "print(\"Number of rows removed:\", len(df) - len(df_outliers_removed))\n"
   ]
  },
  {
   "cell_type": "code",
   "execution_count": 44,
   "id": "305f9852-5fc9-41a6-b388-44ec76d0d2a8",
   "metadata": {},
   "outputs": [
    {
     "name": "stdout",
     "output_type": "stream",
     "text": [
      "Z-scores range: -1.2283899617598286 to 2.7176503648128776\n"
     ]
    }
   ],
   "source": [
    "# Check the range of z-scores\n",
    "print(\"Z-scores range:\", df['renta_zscore'].min(), \"to\", df['renta_zscore'].max())\n"
   ]
  },
  {
   "cell_type": "code",
   "execution_count": null,
   "id": "b376ed12-9984-40cc-9881-cd7e51157244",
   "metadata": {},
   "outputs": [],
   "source": []
  }
 ],
 "metadata": {
  "kernelspec": {
   "display_name": "Python 3 (ipykernel)",
   "language": "python",
   "name": "python3"
  },
  "language_info": {
   "codemirror_mode": {
    "name": "ipython",
    "version": 3
   },
   "file_extension": ".py",
   "mimetype": "text/x-python",
   "name": "python",
   "nbconvert_exporter": "python",
   "pygments_lexer": "ipython3",
   "version": "3.12.1"
  }
 },
 "nbformat": 4,
 "nbformat_minor": 5
}
