{
 "cells": [
  {
   "cell_type": "markdown",
   "id": "4f2508a1-fa2a-40ce-961c-bac312a4e7a5",
   "metadata": {},
   "source": [
    "# **Iris Species Classification Model Deployment**\n",
    "**Week 4 Assignment - Data Glacier Internship**\n",
    "\n",
    "---\n",
    "\n",
    "### **Author**: Bilgan Kiris  \n",
    "### **Submission Date**: October 23rd, 2024  \n",
    "\n",
    "---\n",
    "\n",
    "## **Project Overview**\n",
    "\n",
    "In this project, we will use the Iris dataset to build a classification model. The model will be deployed using Flask as a web app. This notebook covers the steps involved in:\n",
    "\n",
    "1. **Loading the dataset**\n",
    "2. **Exploratory Data Analysis (EDA)**\n",
    "3. **Model Building**\n",
    "4. **Saving the Model**\n",
    "5. **Deploying the Model using Flask**\n",
    "\n",
    "---\n",
    "\n",
    "## **Dataset Information**\n",
    "\n",
    "- **Dataset**: Iris Dataset from scikit-learn\n",
    "- **Features**: Sepal length, Sepal width, Petal length, Petal width\n",
    "- **Target**: 3 species of Iris flowers (Setosa, Versicolor, Virginica)\n",
    "\n",
    "---\n",
    "\n",
    "## **Objective**\n",
    "\n",
    "To build a machine learning model that can classify different species of Iris flowers based on their physical measurements and deploy it as a web app using Flask.\n"
   ]
  },
  {
   "cell_type": "markdown",
   "id": "e228a63e-73cf-4b05-9701-badd171d3ee0",
   "metadata": {},
   "source": [
    "# Loading the Dataset"
   ]
  },
  {
   "cell_type": "code",
   "execution_count": 22,
   "id": "50e33397-49f8-4ccc-87ec-2926644b414a",
   "metadata": {},
   "outputs": [],
   "source": [
    "# importing libraries\n",
    "from sklearn.datasets import load_iris\n",
    "from sklearn.model_selection import train_test_split\n",
    "from sklearn.ensemble import RandomForestClassifier\n",
    "from sklearn.metrics import accuracy_score\n",
    "import pickle"
   ]
  },
  {
   "cell_type": "code",
   "execution_count": 23,
   "id": "4c4f96b6-b5c6-4c9c-a5bb-b7ca3c7d79fe",
   "metadata": {},
   "outputs": [],
   "source": [
    "# 1. Loading the dataset\n",
    "data = load_iris()\n",
    "X = data.data  # Feature variables\n",
    "y = data.target  # Target variable\n"
   ]
  },
  {
   "cell_type": "markdown",
   "id": "c2fb29aa-b7e6-4983-8161-88afb08db06d",
   "metadata": {},
   "source": [
    "# Exploratory Data Analysis"
   ]
  },
  {
   "cell_type": "code",
   "execution_count": 24,
   "id": "08a2bdde-b5d0-422d-8ad2-fb23a84c5cc8",
   "metadata": {},
   "outputs": [
    {
     "name": "stdout",
     "output_type": "stream",
     "text": [
      "Dataset Shape: (150, 4)\n",
      "Sample Records: [[5.1 3.5 1.4 0.2]\n",
      " [4.9 3.  1.4 0.2]\n",
      " [4.7 3.2 1.3 0.2]\n",
      " [4.6 3.1 1.5 0.2]\n",
      " [5.  3.6 1.4 0.2]]\n"
     ]
    }
   ],
   "source": [
    "# 2. Exploratory Data Analysis (EDA)\n",
    "# For simplicity, we'll print dataset shape and a few sample records\n",
    "print(\"Dataset Shape:\", X.shape)\n",
    "print(\"Sample Records:\", X[:5])"
   ]
  },
  {
   "cell_type": "markdown",
   "id": "17bf0c20-7288-4ff2-8382-6e1f98fb4b88",
   "metadata": {},
   "source": [
    "## Model Building"
   ]
  },
  {
   "cell_type": "code",
   "execution_count": 25,
   "id": "c14783be-a532-4b45-bc48-03cd1c1efda3",
   "metadata": {},
   "outputs": [
    {
     "name": "stdout",
     "output_type": "stream",
     "text": [
      "Model Accuracy: 1.00\n"
     ]
    }
   ],
   "source": [
    "# Split the data into training and testing sets\n",
    "X_train, X_test, y_train, y_test = train_test_split(X, y, test_size=0.2, random_state=42)\n",
    "\n",
    "# Initialize the model\n",
    "model = RandomForestClassifier(n_estimators=100, random_state=42)\n",
    "model.fit(X_train, y_train)\n",
    "\n",
    "# Evaluate the model\n",
    "y_pred = model.predict(X_test)\n",
    "accuracy = accuracy_score(y_test, y_pred)\n",
    "print(f\"Model Accuracy: {accuracy:.2f}\")\n"
   ]
  },
  {
   "cell_type": "markdown",
   "id": "2e195589-a153-49dc-9d5e-cb0f5ff3d6fc",
   "metadata": {},
   "source": [
    "# Saving the Model"
   ]
  },
  {
   "cell_type": "code",
   "execution_count": 26,
   "id": "74c221e7-3fc3-4341-98bd-c7fe4dcc9da9",
   "metadata": {},
   "outputs": [
    {
     "name": "stdout",
     "output_type": "stream",
     "text": [
      "Model saved as iris_model.pkl\n"
     ]
    }
   ],
   "source": [
    "with open(\"iris_model.pkl\", \"wb\") as file:\n",
    "    pickle.dump(model, file)\n",
    "print(\"Model saved as iris_model.pkl\")"
   ]
  },
  {
   "cell_type": "code",
   "execution_count": null,
   "id": "6d39755e-ed3d-4359-84f5-6d9f03c6400c",
   "metadata": {},
   "outputs": [],
   "source": []
  }
 ],
 "metadata": {
  "kernelspec": {
   "display_name": "Python 3 (ipykernel)",
   "language": "python",
   "name": "python3"
  },
  "language_info": {
   "codemirror_mode": {
    "name": "ipython",
    "version": 3
   },
   "file_extension": ".py",
   "mimetype": "text/x-python",
   "name": "python",
   "nbconvert_exporter": "python",
   "pygments_lexer": "ipython3",
   "version": "3.12.1"
  }
 },
 "nbformat": 4,
 "nbformat_minor": 5
}
